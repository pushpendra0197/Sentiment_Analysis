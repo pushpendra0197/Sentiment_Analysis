# %%
import numpy as np 
import pandas as pd 
import spacy
import nltk
import re 
import seaborn as sns
import string
from nltk.corpus import stopwords
stop=stopwords.words("english")
from nltk.stem import PorterStemmer
pos_stem=PorterStemmer()
from tkinter import *
import tkinter as tk
import tkinter.ttk as Combobox
from PIL import Image, ImageTk
import tkinter as tkinter
import joblib



# %%
df=pd.read_csv(r"Restaurant_Reviews_Prediction\Restaurant_Reviews.csv")

# %%
df

# %%
df.drop_duplicates(inplace=True)

# %%
df.duplicated().sum()

# %%
df["Liked"]=df["Liked"].map({1:"Liked",0:"Disliked"})

# %%
df

# %%
df["Liked"].value_counts().plot(kind='bar')

# %%
df["len"]=df["Review"].apply(len)

# %%


# %%
df

# %%
df.query('Liked=="Liked"')["len"].mean()

# %%
df.query('Liked=="Disliked"')["len"].mean()

# %%
a=df.head(10).plot

# %%
sns.barplot(x=df["Liked"],y=df["len"])

# %%
def clean(text):
    review=text.lower()
    review=re.sub('[^a-zA-z]',' ',review)
    review=review.split()    
    review=[ i for i in review if i not in string.punctuation]
    review=[pos_stem.stem(word) for word in review]
    review=" ".join(review)
    
    return review
    

# %%
df["cleaned_text"]=df["Review"].apply(lambda X:clean(X))

# %%
df

# %%
x=df["cleaned_text"]
y=df["Liked"]

# %%
from sklearn.feature_extraction.text import CountVectorizer

# %%
cv=CountVectorizer(max_features=1500)

# %%
cv.fit(x)

# %%
X=cv.transform(x)

# %%
from sklearn.model_selection import train_test_split

# %%
xtrain,xtest,ytrain,ytest=train_test_split(X,y,train_size=.80,random_state=0)

# %% [markdown]
# 

# %%
from sklearn.linear_model import LogisticRegression
from sklearn.ensemble import RandomForestClassifier
from sklearn.svm import SVC
from sklearn.tree import DecisionTreeClassifier
from sklearn.naive_bayes import GaussianNB
from sklearn.metrics import accuracy_score, confusion_matrix,classification_report

# %%
LR=LogisticRegression()
DT=DecisionTreeClassifier()
RDF=RandomForestClassifier()
SVC=SVC()
GB=GaussianNB()

# %%
LR.fit(xtrain,ytrain)

# %%
print(accuracy_score(ytrain,LR.predict(xtrain)))
print(accuracy_score(ytest,LR.predict(xtest)))
print(classification_report(ytest,LR.predict(xtest)))

# %%
DT.fit(xtrain,ytrain)

# %%
print(accuracy_score(ytrain,DT.predict(xtrain)))
print(accuracy_score(ytest,DT.predict(xtest)))

# %%
RDF.fit(xtrain,ytrain)

# %%
print(accuracy_score(ytrain,RDF.predict(xtrain)))
print(accuracy_score(ytest,RDF.predict(xtest)))
print(classification_report(ytest,RDF.predict(xtest)))

# %%
Review=Tk()
Review.title("Restaurant_Reviews_Prediction")
Review.geometry("1000x700")
Review.maxsize(height=700,width=1000)
Review.configure(bg="dodgerblue")
#labels and entrybox
label0=Label(text="Restaurant_Reviews_Prediction",bg="DodgerBlue2",font=("TimesNewRomans",20),fg="black",bd=5,padx=15,pady=15)
label0.place(x=300,y=0)
label1=Label(Review,text="Enter Your Text-",bg="DodgerBlue2",font=("timesnewromans,12")).place(x=200,y=550)
e1=Entry(Review,bd=5,font=("timesnewromans",12),width=40)
e1.place(x=330,y=545)
e2=Entry(Review,width=5,font=("timesnewromans",20,"bold"),justify="center")
e2.place(x=430,y=170)
def check():
    p1=Entry.get(e1)
    print(p1)
    input=p1
    input_c=clean(input)
    input_vec=cv.transform([input_c])
    Model=joblib.load("Restaurant_Reviews_Prediction.pkl")
    prediction=Model.predict(input_vec)
    if prediction=="Disliked":
        Entry.insert(e2,0,"👎")
    if prediction=="Liked":
        Entry.insert(e2,0,"👍")    
def reset():
    e1.delete(0,END)
    e2.delete(0,END)
button=Button(Review,text="Submit",bg="red",font=("timesnewromans",9),bd=10,command=check)
button.place(x=200,y=620)
button=Button(Review,text="Reset",bg="red",font=("timesnewromans",9),bd=10,command=reset)
button.place(x=300,y=620)
Review.mainloop()

# %%



